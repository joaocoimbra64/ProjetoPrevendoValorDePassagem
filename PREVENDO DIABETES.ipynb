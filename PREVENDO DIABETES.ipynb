{
 "cells": [
  {
   "cell_type": "markdown",
   "id": "253c315d",
   "metadata": {},
   "source": [
    "# importando a base de dados e os pacotes necessarios"
   ]
  },
  {
   "cell_type": "code",
   "execution_count": 167,
   "id": "62b53b25",
   "metadata": {},
   "outputs": [
    {
     "name": "stdout",
     "output_type": "stream",
     "text": [
      "ola,mundi\n"
     ]
    }
   ],
   "source": [
    "print('ola,mundi')"
   ]
  },
  {
   "cell_type": "code",
   "execution_count": 168,
   "id": "ec73c99f",
   "metadata": {
    "tags": []
   },
   "outputs": [],
   "source": [
    "#Importação de pacotes\n",
    "import warnings\n",
    "import pandas as pd\n",
    "df = pd.read_csv('diabete.csv')\n",
    "import matplotlib.pyplot as plt\n",
    "import seaborn as sns\n",
    "from sklearn.model_selection import train_test_split\n",
    "import numpy as np\n",
    "import joblib # Utilizado para salvar o modelo preditivo\n",
    "from sklearn.preprocessing import LabelEncoder #Utilizada para fazer o OneHotEncoding\n",
    "from sklearn.metrics import mean_squared_error,precision_score, recall_score, f1_score, accuracy_score, roc_auc_score, confusion_matrix\n",
    "from imblearn import under_sampling, over_sampling #Utilizada para fazer o balanceamento de dados\n",
    "from imblearn.over_sampling import SMOTE #Utilizada para fazer o balanceamento de dados\n",
    "from sklearn.metrics import r2_score # Utilizado para medir a acuracia do modelo preditivo\n",
    "warnings.filterwarnings(\"ignore\") \n",
    "pd.set_option('display.max_columns', None)\n",
    "pd.set_option('display.max_rows', None)\n",
    "#pd.options.display.float_format = '{:.2f}'.format"
   ]
  },
  {
   "cell_type": "markdown",
   "id": "1a399a39",
   "metadata": {},
   "source": [
    "### Traduzinfo a base de dados "
   ]
  },
  {
   "cell_type": "code",
   "execution_count": 169,
   "id": "3319005b",
   "metadata": {
    "tags": []
   },
   "outputs": [
    {
     "data": {
      "text/html": [
       "<div>\n",
       "<style scoped>\n",
       "    .dataframe tbody tr th:only-of-type {\n",
       "        vertical-align: middle;\n",
       "    }\n",
       "\n",
       "    .dataframe tbody tr th {\n",
       "        vertical-align: top;\n",
       "    }\n",
       "\n",
       "    .dataframe thead th {\n",
       "        text-align: right;\n",
       "    }\n",
       "</style>\n",
       "<table border=\"1\" class=\"dataframe\">\n",
       "  <thead>\n",
       "    <tr style=\"text-align: right;\">\n",
       "      <th></th>\n",
       "      <th>gender</th>\n",
       "      <th>age</th>\n",
       "      <th>hypertension</th>\n",
       "      <th>heart_disease</th>\n",
       "      <th>smoking_history</th>\n",
       "      <th>bmi</th>\n",
       "      <th>HbA1c_level</th>\n",
       "      <th>blood_glucose_level</th>\n",
       "      <th>diabetes</th>\n",
       "    </tr>\n",
       "  </thead>\n",
       "  <tbody>\n",
       "    <tr>\n",
       "      <th>0</th>\n",
       "      <td>Female</td>\n",
       "      <td>80.0</td>\n",
       "      <td>0</td>\n",
       "      <td>1</td>\n",
       "      <td>never</td>\n",
       "      <td>25.19</td>\n",
       "      <td>6.6</td>\n",
       "      <td>140</td>\n",
       "      <td>0</td>\n",
       "    </tr>\n",
       "  </tbody>\n",
       "</table>\n",
       "</div>"
      ],
      "text/plain": [
       "   gender   age  hypertension  heart_disease smoking_history    bmi  \\\n",
       "0  Female  80.0             0              1           never  25.19   \n",
       "\n",
       "   HbA1c_level  blood_glucose_level  diabetes  \n",
       "0          6.6                  140         0  "
      ]
     },
     "execution_count": 169,
     "metadata": {},
     "output_type": "execute_result"
    }
   ],
   "source": [
    "df.head(1)"
   ]
  },
  {
   "cell_type": "code",
   "execution_count": 170,
   "id": "35c2dfdc",
   "metadata": {
    "tags": []
   },
   "outputs": [
    {
     "data": {
      "text/html": [
       "<div>\n",
       "<style scoped>\n",
       "    .dataframe tbody tr th:only-of-type {\n",
       "        vertical-align: middle;\n",
       "    }\n",
       "\n",
       "    .dataframe tbody tr th {\n",
       "        vertical-align: top;\n",
       "    }\n",
       "\n",
       "    .dataframe thead th {\n",
       "        text-align: right;\n",
       "    }\n",
       "</style>\n",
       "<table border=\"1\" class=\"dataframe\">\n",
       "  <thead>\n",
       "    <tr style=\"text-align: right;\">\n",
       "      <th></th>\n",
       "      <th>Sexo</th>\n",
       "      <th>Idade</th>\n",
       "      <th>hipertensão</th>\n",
       "      <th>doença_cardíaca</th>\n",
       "      <th>histórico_tabagismo</th>\n",
       "      <th>bmi</th>\n",
       "      <th>HbA1c_level</th>\n",
       "      <th>glicose</th>\n",
       "      <th>diabetes</th>\n",
       "    </tr>\n",
       "  </thead>\n",
       "  <tbody>\n",
       "    <tr>\n",
       "      <th>0</th>\n",
       "      <td>Female</td>\n",
       "      <td>80.0</td>\n",
       "      <td>0</td>\n",
       "      <td>1</td>\n",
       "      <td>never</td>\n",
       "      <td>25.19</td>\n",
       "      <td>6.6</td>\n",
       "      <td>140</td>\n",
       "      <td>0</td>\n",
       "    </tr>\n",
       "    <tr>\n",
       "      <th>1</th>\n",
       "      <td>Female</td>\n",
       "      <td>54.0</td>\n",
       "      <td>0</td>\n",
       "      <td>0</td>\n",
       "      <td>No Info</td>\n",
       "      <td>27.32</td>\n",
       "      <td>6.6</td>\n",
       "      <td>80</td>\n",
       "      <td>0</td>\n",
       "    </tr>\n",
       "    <tr>\n",
       "      <th>2</th>\n",
       "      <td>Male</td>\n",
       "      <td>28.0</td>\n",
       "      <td>0</td>\n",
       "      <td>0</td>\n",
       "      <td>never</td>\n",
       "      <td>27.32</td>\n",
       "      <td>5.7</td>\n",
       "      <td>158</td>\n",
       "      <td>0</td>\n",
       "    </tr>\n",
       "    <tr>\n",
       "      <th>3</th>\n",
       "      <td>Female</td>\n",
       "      <td>36.0</td>\n",
       "      <td>0</td>\n",
       "      <td>0</td>\n",
       "      <td>current</td>\n",
       "      <td>23.45</td>\n",
       "      <td>5.0</td>\n",
       "      <td>155</td>\n",
       "      <td>0</td>\n",
       "    </tr>\n",
       "    <tr>\n",
       "      <th>4</th>\n",
       "      <td>Male</td>\n",
       "      <td>76.0</td>\n",
       "      <td>1</td>\n",
       "      <td>1</td>\n",
       "      <td>current</td>\n",
       "      <td>20.14</td>\n",
       "      <td>4.8</td>\n",
       "      <td>155</td>\n",
       "      <td>0</td>\n",
       "    </tr>\n",
       "  </tbody>\n",
       "</table>\n",
       "</div>"
      ],
      "text/plain": [
       "     Sexo  Idade  hipertensão  doença_cardíaca histórico_tabagismo    bmi  \\\n",
       "0  Female   80.0            0                1               never  25.19   \n",
       "1  Female   54.0            0                0             No Info  27.32   \n",
       "2    Male   28.0            0                0               never  27.32   \n",
       "3  Female   36.0            0                0             current  23.45   \n",
       "4    Male   76.0            1                1             current  20.14   \n",
       "\n",
       "   HbA1c_level  glicose  diabetes  \n",
       "0          6.6      140         0  \n",
       "1          6.6       80         0  \n",
       "2          5.7      158         0  \n",
       "3          5.0      155         0  \n",
       "4          4.8      155         0  "
      ]
     },
     "execution_count": 170,
     "metadata": {},
     "output_type": "execute_result"
    }
   ],
   "source": [
    "df_traduzida = df.rename(columns={'gender':'Sexo','age':'Idade','hypertension':'hipertensão','heart_disease':'doença_cardíaca','smoking_history':'histórico_tabagismo','blood_glucose_level':'glicose'})\n",
    "df_traduzida.head()"
   ]
  },
  {
   "cell_type": "code",
   "execution_count": 171,
   "id": "9561df71",
   "metadata": {},
   "outputs": [
    {
     "data": {
      "text/plain": [
       "(100000, 9)"
      ]
     },
     "execution_count": 171,
     "metadata": {},
     "output_type": "execute_result"
    }
   ],
   "source": [
    "df_traduzida.shape  "
   ]
  },
  {
   "cell_type": "markdown",
   "id": "70dbe9d4",
   "metadata": {},
   "source": [
    "# ANÁLISE DE DADOS "
   ]
  },
  {
   "cell_type": "code",
   "execution_count": 172,
   "id": "c6f733cb",
   "metadata": {
    "tags": []
   },
   "outputs": [
    {
     "name": "stdout",
     "output_type": "stream",
     "text": [
      "<class 'pandas.core.frame.DataFrame'>\n",
      "RangeIndex: 100000 entries, 0 to 99999\n",
      "Data columns (total 9 columns):\n",
      " #   Column               Non-Null Count   Dtype  \n",
      "---  ------               --------------   -----  \n",
      " 0   Sexo                 100000 non-null  object \n",
      " 1   Idade                100000 non-null  float64\n",
      " 2   hipertensão          100000 non-null  int64  \n",
      " 3   doença_cardíaca      100000 non-null  int64  \n",
      " 4   histórico_tabagismo  100000 non-null  object \n",
      " 5   bmi                  100000 non-null  float64\n",
      " 6   HbA1c_level          100000 non-null  float64\n",
      " 7   glicose              100000 non-null  int64  \n",
      " 8   diabetes             100000 non-null  int64  \n",
      "dtypes: float64(3), int64(4), object(2)\n",
      "memory usage: 6.9+ MB\n"
     ]
    }
   ],
   "source": [
    "df_traduzida.info()"
   ]
  },
  {
   "cell_type": "code",
   "execution_count": 173,
   "id": "ea234fca",
   "metadata": {
    "tags": []
   },
   "outputs": [
    {
     "data": {
      "text/html": [
       "<div>\n",
       "<style scoped>\n",
       "    .dataframe tbody tr th:only-of-type {\n",
       "        vertical-align: middle;\n",
       "    }\n",
       "\n",
       "    .dataframe tbody tr th {\n",
       "        vertical-align: top;\n",
       "    }\n",
       "\n",
       "    .dataframe thead th {\n",
       "        text-align: right;\n",
       "    }\n",
       "</style>\n",
       "<table border=\"1\" class=\"dataframe\">\n",
       "  <thead>\n",
       "    <tr style=\"text-align: right;\">\n",
       "      <th></th>\n",
       "      <th>Idade</th>\n",
       "      <th>hipertensão</th>\n",
       "      <th>doença_cardíaca</th>\n",
       "      <th>bmi</th>\n",
       "      <th>HbA1c_level</th>\n",
       "      <th>glicose</th>\n",
       "      <th>diabetes</th>\n",
       "    </tr>\n",
       "  </thead>\n",
       "  <tbody>\n",
       "    <tr>\n",
       "      <th>count</th>\n",
       "      <td>100000.000000</td>\n",
       "      <td>100000.00000</td>\n",
       "      <td>100000.000000</td>\n",
       "      <td>100000.000000</td>\n",
       "      <td>100000.000000</td>\n",
       "      <td>100000.000000</td>\n",
       "      <td>100000.000000</td>\n",
       "    </tr>\n",
       "    <tr>\n",
       "      <th>mean</th>\n",
       "      <td>41.885856</td>\n",
       "      <td>0.07485</td>\n",
       "      <td>0.039420</td>\n",
       "      <td>27.320767</td>\n",
       "      <td>5.527507</td>\n",
       "      <td>138.058060</td>\n",
       "      <td>0.085000</td>\n",
       "    </tr>\n",
       "    <tr>\n",
       "      <th>std</th>\n",
       "      <td>22.516840</td>\n",
       "      <td>0.26315</td>\n",
       "      <td>0.194593</td>\n",
       "      <td>6.636783</td>\n",
       "      <td>1.070672</td>\n",
       "      <td>40.708136</td>\n",
       "      <td>0.278883</td>\n",
       "    </tr>\n",
       "    <tr>\n",
       "      <th>min</th>\n",
       "      <td>0.080000</td>\n",
       "      <td>0.00000</td>\n",
       "      <td>0.000000</td>\n",
       "      <td>10.010000</td>\n",
       "      <td>3.500000</td>\n",
       "      <td>80.000000</td>\n",
       "      <td>0.000000</td>\n",
       "    </tr>\n",
       "    <tr>\n",
       "      <th>25%</th>\n",
       "      <td>24.000000</td>\n",
       "      <td>0.00000</td>\n",
       "      <td>0.000000</td>\n",
       "      <td>23.630000</td>\n",
       "      <td>4.800000</td>\n",
       "      <td>100.000000</td>\n",
       "      <td>0.000000</td>\n",
       "    </tr>\n",
       "    <tr>\n",
       "      <th>50%</th>\n",
       "      <td>43.000000</td>\n",
       "      <td>0.00000</td>\n",
       "      <td>0.000000</td>\n",
       "      <td>27.320000</td>\n",
       "      <td>5.800000</td>\n",
       "      <td>140.000000</td>\n",
       "      <td>0.000000</td>\n",
       "    </tr>\n",
       "    <tr>\n",
       "      <th>75%</th>\n",
       "      <td>60.000000</td>\n",
       "      <td>0.00000</td>\n",
       "      <td>0.000000</td>\n",
       "      <td>29.580000</td>\n",
       "      <td>6.200000</td>\n",
       "      <td>159.000000</td>\n",
       "      <td>0.000000</td>\n",
       "    </tr>\n",
       "    <tr>\n",
       "      <th>max</th>\n",
       "      <td>80.000000</td>\n",
       "      <td>1.00000</td>\n",
       "      <td>1.000000</td>\n",
       "      <td>95.690000</td>\n",
       "      <td>9.000000</td>\n",
       "      <td>300.000000</td>\n",
       "      <td>1.000000</td>\n",
       "    </tr>\n",
       "  </tbody>\n",
       "</table>\n",
       "</div>"
      ],
      "text/plain": [
       "               Idade   hipertensão  doença_cardíaca            bmi  \\\n",
       "count  100000.000000  100000.00000    100000.000000  100000.000000   \n",
       "mean       41.885856       0.07485         0.039420      27.320767   \n",
       "std        22.516840       0.26315         0.194593       6.636783   \n",
       "min         0.080000       0.00000         0.000000      10.010000   \n",
       "25%        24.000000       0.00000         0.000000      23.630000   \n",
       "50%        43.000000       0.00000         0.000000      27.320000   \n",
       "75%        60.000000       0.00000         0.000000      29.580000   \n",
       "max        80.000000       1.00000         1.000000      95.690000   \n",
       "\n",
       "         HbA1c_level        glicose       diabetes  \n",
       "count  100000.000000  100000.000000  100000.000000  \n",
       "mean        5.527507     138.058060       0.085000  \n",
       "std         1.070672      40.708136       0.278883  \n",
       "min         3.500000      80.000000       0.000000  \n",
       "25%         4.800000     100.000000       0.000000  \n",
       "50%         5.800000     140.000000       0.000000  \n",
       "75%         6.200000     159.000000       0.000000  \n",
       "max         9.000000     300.000000       1.000000  "
      ]
     },
     "execution_count": 173,
     "metadata": {},
     "output_type": "execute_result"
    }
   ],
   "source": [
    "df_traduzida.describe()"
   ]
  },
  {
   "cell_type": "code",
   "execution_count": 174,
   "id": "24a0c319",
   "metadata": {
    "tags": []
   },
   "outputs": [
    {
     "data": {
      "text/plain": [
       "Sexo\n",
       "Female    58552\n",
       "Male      41430\n",
       "Other        18\n",
       "dtype: int64"
      ]
     },
     "execution_count": 174,
     "metadata": {},
     "output_type": "execute_result"
    }
   ],
   "source": [
    "df_traduzida.groupby(['Sexo']).size()"
   ]
  },
  {
   "cell_type": "code",
   "execution_count": 175,
   "id": "d2cca6b3",
   "metadata": {
    "tags": []
   },
   "outputs": [
    {
     "data": {
      "text/plain": [
       "hipertensão\n",
       "0    92515\n",
       "1     7485\n",
       "dtype: int64"
      ]
     },
     "execution_count": 175,
     "metadata": {},
     "output_type": "execute_result"
    }
   ],
   "source": [
    "df_traduzida.groupby(['hipertensão']).size()"
   ]
  },
  {
   "cell_type": "code",
   "execution_count": 176,
   "id": "8bc0ba92",
   "metadata": {
    "tags": []
   },
   "outputs": [
    {
     "data": {
      "text/plain": [
       "doença_cardíaca\n",
       "0    96058\n",
       "1     3942\n",
       "dtype: int64"
      ]
     },
     "execution_count": 176,
     "metadata": {},
     "output_type": "execute_result"
    }
   ],
   "source": [
    "df_traduzida.groupby(['doença_cardíaca']).size()"
   ]
  },
  {
   "cell_type": "code",
   "execution_count": 177,
   "id": "7dc65e46",
   "metadata": {
    "tags": []
   },
   "outputs": [
    {
     "data": {
      "text/plain": [
       "histórico_tabagismo\n",
       "No Info        35816\n",
       "current         9286\n",
       "ever            4004\n",
       "former          9352\n",
       "never          35095\n",
       "not current     6447\n",
       "dtype: int64"
      ]
     },
     "execution_count": 177,
     "metadata": {},
     "output_type": "execute_result"
    }
   ],
   "source": [
    "df_traduzida.groupby(['histórico_tabagismo']).size()"
   ]
  },
  {
   "cell_type": "code",
   "execution_count": 178,
   "id": "13a924ab",
   "metadata": {
    "tags": []
   },
   "outputs": [
    {
     "data": {
      "text/plain": [
       "diabetes\n",
       "0    91500\n",
       "1     8500\n",
       "dtype: int64"
      ]
     },
     "execution_count": 178,
     "metadata": {},
     "output_type": "execute_result"
    }
   ],
   "source": [
    "df_traduzida.groupby(['diabetes']).size()"
   ]
  },
  {
   "cell_type": "code",
   "execution_count": 179,
   "id": "f9181b36",
   "metadata": {
    "tags": []
   },
   "outputs": [
    {
     "data": {
      "text/plain": [
       "HbA1c_level\n",
       "3.5    7662\n",
       "4.0    7542\n",
       "4.5    7585\n",
       "4.8    7597\n",
       "5.0    7471\n",
       "5.7    8413\n",
       "5.8    8321\n",
       "6.0    8295\n",
       "6.1    8048\n",
       "6.2    8269\n",
       "6.5    8362\n",
       "6.6    8540\n",
       "6.8     642\n",
       "7.0     634\n",
       "7.5     643\n",
       "8.2     661\n",
       "8.8     661\n",
       "9.0     654\n",
       "dtype: int64"
      ]
     },
     "execution_count": 179,
     "metadata": {},
     "output_type": "execute_result"
    }
   ],
   "source": [
    "df_traduzida.groupby(['HbA1c_level']).size()"
   ]
  },
  {
   "cell_type": "code",
   "execution_count": 180,
   "id": "f81725d5",
   "metadata": {
    "tags": []
   },
   "outputs": [
    {
     "data": {
      "image/png": "[encoded data removed]",
      "text/plain": [
       "<Figure size 1400x800 with 4 Axes>"
      ]
     },
     "metadata": {},
     "output_type": "display_data"
    }
   ],
   "source": [
    "# Podemos observar as informações acimas todas de uma vez através de gráficos\n",
    "\n",
    "plt.rcParams[\"figure.figsize\"] = [14.00, 8.00]\n",
    "plt.rcParams[\"figure.autolayout\"] = True\n",
    "f, axes = plt.subplots(2, 2)\n",
    "\n",
    "sns.countplot(data = df_traduzida, x=\"diabetes\", ax=axes[0][0])\n",
    "sns.countplot(data = df_traduzida, x=\"histórico_tabagismo\", ax=axes[0][1])\n",
    "sns.countplot(data = df_traduzida, x=\"Sexo\", ax=axes[1][0])\n",
    "sns.countplot(data = df_traduzida, x=\"doença_cardíaca\", ax=axes[1][1])\n",
    "plt.show()"
   ]
  },
  {
   "cell_type": "markdown",
   "id": "d54c99db",
   "metadata": {},
   "source": [
    "### Verificando se há alguma correlação entre as variaveis"
   ]
  },
  {
   "cell_type": "code",
   "execution_count": 181,
   "id": "a020e8b6",
   "metadata": {
    "tags": []
   },
   "outputs": [
    {
     "data": {
      "image/png": "[encoded data removed]",
      "text/plain": [
       "<Figure size 1000x1000 with 2 Axes>"
      ]
     },
     "metadata": {},
     "output_type": "display_data"
    }
   ],
   "source": [
    "# A correção é utilizada para entender como as variaveis se relacionam entre si.\n",
    "# A correção vai de -1 até +1 onde -1 significa uma forte correção negativa e +1 significa uma forte correlação positiva.\n",
    "# Correlação NÃO é causalidade, ou seja, uma relação entre as variaveis não significa que uma é a causa do valor da outra.\n",
    "\n",
    "\n",
    "plt.rcParams['xtick.labelsize'] = 10\n",
    "plt.rcParams['ytick.labelsize'] = 10\n",
    "plt.rcParams['font.size'] = 10 \n",
    "plt.rcParams['axes.titlesize'] = 20\n",
    "plt.rcParams[\"figure.figsize\"] = [10, 10]\n",
    "plt.rcParams[\"figure.autolayout\"] = True\n",
    "sns.heatmap(df_traduzida.corr(), annot=True)\n",
    "plt.show()"
   ]
  },
  {
   "cell_type": "markdown",
   "id": "594251ee",
   "metadata": {},
   "source": [
    "# verificando se há outliers"
   ]
  },
  {
   "cell_type": "code",
   "execution_count": 182,
   "id": "452ce68f",
   "metadata": {
    "tags": []
   },
   "outputs": [
    {
     "name": "stdout",
     "output_type": "stream",
     "text": [
      "Idade : float64\n",
      "hipertensão : int64\n",
      "doença_cardíaca : int64\n",
      "bmi : float64\n",
      "HbA1c_level : float64\n",
      "glicose : int64\n",
      "diabetes : int64\n"
     ]
    },
    {
     "data": {
      "image/png": "[encoded data removed]",
      "text/plain": [
       "<Figure size 1400x1000 with 9 Axes>"
      ]
     },
     "metadata": {},
     "output_type": "display_data"
    }
   ],
   "source": [
    "#carregar variaveis para plot\n",
    "variaveis_numericas = []\n",
    "for i in df_traduzida.columns[0:16].tolist():\n",
    "        if df_traduzida.dtypes[i] == 'int64' or df_traduzida.dtypes[i] == 'float64':            \n",
    "            print(i, ':' , df_traduzida.dtypes[i]) \n",
    "            variaveis_numericas.append(i)\n",
    " \n",
    "    \n",
    "    \n",
    "    \n",
    "plt.rcParams[\"figure.figsize\"] = [14.00, 10.00]\n",
    "plt.rcParams[\"figure.autolayout\"] = True\n",
    "\n",
    "plt.rcParams['font.size'] = 10 \n",
    "plt.rcParams['axes.titlesize'] = 20\n",
    "\n",
    "f, axes = plt.subplots(3, 3) #8 linhas e 4 colunas\n",
    "\n",
    "linha = 0\n",
    "coluna = 0\n",
    "for i in variaveis_numericas:\n",
    "    sns.boxplot(data = df_traduzida, y=i, ax=axes[linha][coluna])\n",
    "    coluna += 1\n",
    "    if coluna == 3:\n",
    "        linha += 1\n",
    "        coluna = 0            \n",
    "\n",
    "plt.show() "
   ]
  },
  {
   "cell_type": "code",
   "execution_count": 183,
   "id": "5bae9f23",
   "metadata": {
    "tags": []
   },
   "outputs": [
    {
     "data": {
      "text/plain": [
       "80.00    5621\n",
       "51.00    1619\n",
       "47.00    1574\n",
       "48.00    1568\n",
       "53.00    1542\n",
       "49.00    1541\n",
       "52.00    1534\n",
       "46.00    1522\n",
       "57.00    1521\n",
       "54.00    1506\n",
       "55.00    1504\n",
       "38.00    1498\n",
       "62.00    1474\n",
       "45.00    1469\n",
       "50.00    1455\n",
       "43.00    1440\n",
       "56.00    1435\n",
       "60.00    1423\n",
       "39.00    1422\n",
       "61.00    1403\n",
       "44.00    1402\n",
       "59.00    1399\n",
       "42.00    1395\n",
       "40.00    1385\n",
       "28.00    1377\n",
       "29.00    1359\n",
       "58.00    1348\n",
       "37.00    1322\n",
       "41.00    1299\n",
       "30.00    1298\n",
       "27.00    1292\n",
       "31.00    1276\n",
       "26.00    1273\n",
       "19.00    1268\n",
       "34.00    1262\n",
       "36.00    1257\n",
       "21.00    1255\n",
       "23.00    1253\n",
       "25.00    1249\n",
       "33.00    1245\n",
       "32.00    1244\n",
       "22.00    1237\n",
       "20.00    1236\n",
       "24.00    1236\n",
       "35.00    1228\n",
       "2.00     1186\n",
       "18.00    1181\n",
       "66.00    1176\n",
       "65.00    1134\n",
       "64.00    1098\n",
       "63.00    1089\n",
       "67.00    1040\n",
       "3.00     1038\n",
       "16.00    1022\n",
       "17.00    1018\n",
       "5.00      993\n",
       "68.00     977\n",
       "15.00     968\n",
       "69.00     966\n",
       "4.00      953\n",
       "13.00     949\n",
       "6.00      931\n",
       "70.00     919\n",
       "14.00     906\n",
       "7.00      903\n",
       "12.00     891\n",
       "8.00      876\n",
       "71.00     871\n",
       "10.00     860\n",
       "11.00     843\n",
       "73.00     823\n",
       "72.00     790\n",
       "9.00      781\n",
       "74.00     764\n",
       "76.00     733\n",
       "77.00     730\n",
       "75.00     721\n",
       "78.00     682\n",
       "79.00     621\n",
       "1.64      118\n",
       "1.56      113\n",
       "1.80      108\n",
       "1.48      107\n",
       "0.72      104\n",
       "1.32      103\n",
       "0.80      102\n",
       "1.40      101\n",
       "0.64       99\n",
       "1.72       97\n",
       "0.56       96\n",
       "1.08       95\n",
       "0.88       90\n",
       "1.24       90\n",
       "0.32       89\n",
       "1.16       89\n",
       "0.24       87\n",
       "1.88       86\n",
       "0.48       83\n",
       "1.00       83\n",
       "0.40       66\n",
       "0.16       59\n",
       "0.08       36\n",
       "Name: Idade, dtype: int64"
      ]
     },
     "execution_count": 183,
     "metadata": {},
     "output_type": "execute_result"
    }
   ],
   "source": [
    "df_traduzida['Idade'].value_counts()"
   ]
  },
  {
   "cell_type": "code",
   "execution_count": 184,
   "id": "d7ad945d",
   "metadata": {},
   "outputs": [],
   "source": [
    "df_traduzida = df_traduzida.drop_duplicates()"
   ]
  },
  {
   "cell_type": "markdown",
   "id": "30dda5ab",
   "metadata": {},
   "source": [
    "### Avaliando as pessoas que foram diagnosticadas com diabetes "
   ]
  },
  {
   "cell_type": "code",
   "execution_count": 185,
   "id": "a100a9d4",
   "metadata": {},
   "outputs": [
    {
     "data": {
      "text/html": [
       "<div>\n",
       "<style scoped>\n",
       "    .dataframe tbody tr th:only-of-type {\n",
       "        vertical-align: middle;\n",
       "    }\n",
       "\n",
       "    .dataframe tbody tr th {\n",
       "        vertical-align: top;\n",
       "    }\n",
       "\n",
       "    .dataframe thead th {\n",
       "        text-align: right;\n",
       "    }\n",
       "</style>\n",
       "<table border=\"1\" class=\"dataframe\">\n",
       "  <thead>\n",
       "    <tr style=\"text-align: right;\">\n",
       "      <th></th>\n",
       "      <th>Sexo</th>\n",
       "      <th>Idade</th>\n",
       "      <th>hipertensão</th>\n",
       "      <th>doença_cardíaca</th>\n",
       "      <th>histórico_tabagismo</th>\n",
       "      <th>bmi</th>\n",
       "      <th>HbA1c_level</th>\n",
       "      <th>glicose</th>\n",
       "      <th>diabetes</th>\n",
       "    </tr>\n",
       "  </thead>\n",
       "  <tbody>\n",
       "    <tr>\n",
       "      <th>6</th>\n",
       "      <td>Female</td>\n",
       "      <td>44.0</td>\n",
       "      <td>0</td>\n",
       "      <td>0</td>\n",
       "      <td>never</td>\n",
       "      <td>19.31</td>\n",
       "      <td>6.5</td>\n",
       "      <td>200</td>\n",
       "      <td>1</td>\n",
       "    </tr>\n",
       "    <tr>\n",
       "      <th>26</th>\n",
       "      <td>Male</td>\n",
       "      <td>67.0</td>\n",
       "      <td>0</td>\n",
       "      <td>1</td>\n",
       "      <td>not current</td>\n",
       "      <td>27.32</td>\n",
       "      <td>6.5</td>\n",
       "      <td>200</td>\n",
       "      <td>1</td>\n",
       "    </tr>\n",
       "    <tr>\n",
       "      <th>38</th>\n",
       "      <td>Male</td>\n",
       "      <td>50.0</td>\n",
       "      <td>1</td>\n",
       "      <td>0</td>\n",
       "      <td>current</td>\n",
       "      <td>27.32</td>\n",
       "      <td>5.7</td>\n",
       "      <td>260</td>\n",
       "      <td>1</td>\n",
       "    </tr>\n",
       "    <tr>\n",
       "      <th>40</th>\n",
       "      <td>Male</td>\n",
       "      <td>73.0</td>\n",
       "      <td>0</td>\n",
       "      <td>0</td>\n",
       "      <td>former</td>\n",
       "      <td>25.91</td>\n",
       "      <td>9.0</td>\n",
       "      <td>160</td>\n",
       "      <td>1</td>\n",
       "    </tr>\n",
       "    <tr>\n",
       "      <th>53</th>\n",
       "      <td>Female</td>\n",
       "      <td>53.0</td>\n",
       "      <td>0</td>\n",
       "      <td>0</td>\n",
       "      <td>former</td>\n",
       "      <td>27.32</td>\n",
       "      <td>7.0</td>\n",
       "      <td>159</td>\n",
       "      <td>1</td>\n",
       "    </tr>\n",
       "  </tbody>\n",
       "</table>\n",
       "</div>"
      ],
      "text/plain": [
       "      Sexo  Idade  hipertensão  doença_cardíaca histórico_tabagismo    bmi  \\\n",
       "6   Female   44.0            0                0               never  19.31   \n",
       "26    Male   67.0            0                1         not current  27.32   \n",
       "38    Male   50.0            1                0             current  27.32   \n",
       "40    Male   73.0            0                0              former  25.91   \n",
       "53  Female   53.0            0                0              former  27.32   \n",
       "\n",
       "    HbA1c_level  glicose  diabetes  \n",
       "6           6.5      200         1  \n",
       "26          6.5      200         1  \n",
       "38          5.7      260         1  \n",
       "40          9.0      160         1  \n",
       "53          7.0      159         1  "
      ]
     },
     "execution_count": 185,
     "metadata": {},
     "output_type": "execute_result"
    }
   ],
   "source": [
    "diabetes = df_traduzida.loc[df_traduzida['diabetes'] == 1]\n",
    "diabetes.head()"
   ]
  },
  {
   "cell_type": "markdown",
   "id": "bcbb6930",
   "metadata": {},
   "source": [
    "### Avaliando as pessoas que não foram diagnosticadas com diabetes "
   ]
  },
  {
   "cell_type": "code",
   "execution_count": 186,
   "id": "321fc688",
   "metadata": {},
   "outputs": [
    {
     "data": {
      "text/html": [
       "<div>\n",
       "<style scoped>\n",
       "    .dataframe tbody tr th:only-of-type {\n",
       "        vertical-align: middle;\n",
       "    }\n",
       "\n",
       "    .dataframe tbody tr th {\n",
       "        vertical-align: top;\n",
       "    }\n",
       "\n",
       "    .dataframe thead th {\n",
       "        text-align: right;\n",
       "    }\n",
       "</style>\n",
       "<table border=\"1\" class=\"dataframe\">\n",
       "  <thead>\n",
       "    <tr style=\"text-align: right;\">\n",
       "      <th></th>\n",
       "      <th>Sexo</th>\n",
       "      <th>Idade</th>\n",
       "      <th>hipertensão</th>\n",
       "      <th>doença_cardíaca</th>\n",
       "      <th>histórico_tabagismo</th>\n",
       "      <th>bmi</th>\n",
       "      <th>HbA1c_level</th>\n",
       "      <th>glicose</th>\n",
       "      <th>diabetes</th>\n",
       "    </tr>\n",
       "  </thead>\n",
       "  <tbody>\n",
       "    <tr>\n",
       "      <th>6</th>\n",
       "      <td>Female</td>\n",
       "      <td>44.0</td>\n",
       "      <td>0</td>\n",
       "      <td>0</td>\n",
       "      <td>never</td>\n",
       "      <td>19.31</td>\n",
       "      <td>6.5</td>\n",
       "      <td>200</td>\n",
       "      <td>1</td>\n",
       "    </tr>\n",
       "    <tr>\n",
       "      <th>26</th>\n",
       "      <td>Male</td>\n",
       "      <td>67.0</td>\n",
       "      <td>0</td>\n",
       "      <td>1</td>\n",
       "      <td>not current</td>\n",
       "      <td>27.32</td>\n",
       "      <td>6.5</td>\n",
       "      <td>200</td>\n",
       "      <td>1</td>\n",
       "    </tr>\n",
       "    <tr>\n",
       "      <th>38</th>\n",
       "      <td>Male</td>\n",
       "      <td>50.0</td>\n",
       "      <td>1</td>\n",
       "      <td>0</td>\n",
       "      <td>current</td>\n",
       "      <td>27.32</td>\n",
       "      <td>5.7</td>\n",
       "      <td>260</td>\n",
       "      <td>1</td>\n",
       "    </tr>\n",
       "    <tr>\n",
       "      <th>40</th>\n",
       "      <td>Male</td>\n",
       "      <td>73.0</td>\n",
       "      <td>0</td>\n",
       "      <td>0</td>\n",
       "      <td>former</td>\n",
       "      <td>25.91</td>\n",
       "      <td>9.0</td>\n",
       "      <td>160</td>\n",
       "      <td>1</td>\n",
       "    </tr>\n",
       "    <tr>\n",
       "      <th>53</th>\n",
       "      <td>Female</td>\n",
       "      <td>53.0</td>\n",
       "      <td>0</td>\n",
       "      <td>0</td>\n",
       "      <td>former</td>\n",
       "      <td>27.32</td>\n",
       "      <td>7.0</td>\n",
       "      <td>159</td>\n",
       "      <td>1</td>\n",
       "    </tr>\n",
       "  </tbody>\n",
       "</table>\n",
       "</div>"
      ],
      "text/plain": [
       "      Sexo  Idade  hipertensão  doença_cardíaca histórico_tabagismo    bmi  \\\n",
       "6   Female   44.0            0                0               never  19.31   \n",
       "26    Male   67.0            0                1         not current  27.32   \n",
       "38    Male   50.0            1                0             current  27.32   \n",
       "40    Male   73.0            0                0              former  25.91   \n",
       "53  Female   53.0            0                0              former  27.32   \n",
       "\n",
       "    HbA1c_level  glicose  diabetes  \n",
       "6           6.5      200         1  \n",
       "26          6.5      200         1  \n",
       "38          5.7      260         1  \n",
       "40          9.0      160         1  \n",
       "53          7.0      159         1  "
      ]
     },
     "execution_count": 186,
     "metadata": {},
     "output_type": "execute_result"
    }
   ],
   "source": [
    "not_diabetes = df_traduzida.loc[df_traduzida['diabetes'] == 0]\n",
    "diabetes.head()"
   ]
  },
  {
   "cell_type": "code",
   "execution_count": 187,
   "id": "b03e35fc",
   "metadata": {},
   "outputs": [],
   "source": [
    "df_traduzida = df_traduzida.drop_duplicates()"
   ]
  },
  {
   "cell_type": "markdown",
   "id": "a756c68f",
   "metadata": {},
   "source": [
    "# MACHINE LEARNING"
   ]
  },
  {
   "cell_type": "markdown",
   "id": "00a4d8fd",
   "metadata": {},
   "source": [
    "### PRÉ-PROCESSAMENTO DOS DADOS "
   ]
  },
  {
   "cell_type": "code",
   "execution_count": 188,
   "id": "5c44bc3e",
   "metadata": {
    "tags": []
   },
   "outputs": [
    {
     "data": {
      "text/html": [
       "<div>\n",
       "<style scoped>\n",
       "    .dataframe tbody tr th:only-of-type {\n",
       "        vertical-align: middle;\n",
       "    }\n",
       "\n",
       "    .dataframe tbody tr th {\n",
       "        vertical-align: top;\n",
       "    }\n",
       "\n",
       "    .dataframe thead th {\n",
       "        text-align: right;\n",
       "    }\n",
       "</style>\n",
       "<table border=\"1\" class=\"dataframe\">\n",
       "  <thead>\n",
       "    <tr style=\"text-align: right;\">\n",
       "      <th></th>\n",
       "      <th>Sexo</th>\n",
       "      <th>Idade</th>\n",
       "      <th>hipertensão</th>\n",
       "      <th>doença_cardíaca</th>\n",
       "      <th>histórico_tabagismo</th>\n",
       "      <th>bmi</th>\n",
       "      <th>HbA1c_level</th>\n",
       "      <th>glicose</th>\n",
       "      <th>diabetes</th>\n",
       "    </tr>\n",
       "  </thead>\n",
       "  <tbody>\n",
       "    <tr>\n",
       "      <th>0</th>\n",
       "      <td>Female</td>\n",
       "      <td>80.0</td>\n",
       "      <td>0</td>\n",
       "      <td>1</td>\n",
       "      <td>never</td>\n",
       "      <td>25.19</td>\n",
       "      <td>6.6</td>\n",
       "      <td>140</td>\n",
       "      <td>0</td>\n",
       "    </tr>\n",
       "  </tbody>\n",
       "</table>\n",
       "</div>"
      ],
      "text/plain": [
       "     Sexo  Idade  hipertensão  doença_cardíaca histórico_tabagismo    bmi  \\\n",
       "0  Female   80.0            0                1               never  25.19   \n",
       "\n",
       "   HbA1c_level  glicose  diabetes  \n",
       "0          6.6      140         0  "
      ]
     },
     "execution_count": 188,
     "metadata": {},
     "output_type": "execute_result"
    }
   ],
   "source": [
    "df_traduzida.head(1)"
   ]
  },
  {
   "cell_type": "code",
   "execution_count": 189,
   "id": "5cb27ea3",
   "metadata": {
    "tags": []
   },
   "outputs": [],
   "source": [
    "# Cria o encoder\n",
    "lb = LabelEncoder()\n",
    "\n",
    "# Aplica o encoder nas variáveis que estão com string\n",
    "df_traduzida['histórico_tabagismo'] = lb.fit_transform(df_traduzida['histórico_tabagismo'])\n",
    "df_traduzida['Sexo'] = lb.fit_transform(df_traduzida['Sexo'])\n",
    "\n",
    "# Remove valores missing eventualmente gerados\n",
    "df_traduzida.dropna(inplace = True)"
   ]
  },
  {
   "cell_type": "code",
   "execution_count": 190,
   "id": "60af436d",
   "metadata": {
    "tags": []
   },
   "outputs": [
    {
     "data": {
      "text/html": [
       "<div>\n",
       "<style scoped>\n",
       "    .dataframe tbody tr th:only-of-type {\n",
       "        vertical-align: middle;\n",
       "    }\n",
       "\n",
       "    .dataframe tbody tr th {\n",
       "        vertical-align: top;\n",
       "    }\n",
       "\n",
       "    .dataframe thead th {\n",
       "        text-align: right;\n",
       "    }\n",
       "</style>\n",
       "<table border=\"1\" class=\"dataframe\">\n",
       "  <thead>\n",
       "    <tr style=\"text-align: right;\">\n",
       "      <th></th>\n",
       "      <th>Sexo</th>\n",
       "      <th>Idade</th>\n",
       "      <th>hipertensão</th>\n",
       "      <th>doença_cardíaca</th>\n",
       "      <th>histórico_tabagismo</th>\n",
       "      <th>bmi</th>\n",
       "      <th>HbA1c_level</th>\n",
       "      <th>glicose</th>\n",
       "      <th>diabetes</th>\n",
       "    </tr>\n",
       "  </thead>\n",
       "  <tbody>\n",
       "    <tr>\n",
       "      <th>0</th>\n",
       "      <td>0</td>\n",
       "      <td>80.0</td>\n",
       "      <td>0</td>\n",
       "      <td>1</td>\n",
       "      <td>4</td>\n",
       "      <td>25.19</td>\n",
       "      <td>6.6</td>\n",
       "      <td>140</td>\n",
       "      <td>0</td>\n",
       "    </tr>\n",
       "  </tbody>\n",
       "</table>\n",
       "</div>"
      ],
      "text/plain": [
       "   Sexo  Idade  hipertensão  doença_cardíaca  histórico_tabagismo    bmi  \\\n",
       "0     0   80.0            0                1                    4  25.19   \n",
       "\n",
       "   HbA1c_level  glicose  diabetes  \n",
       "0          6.6      140         0  "
      ]
     },
     "execution_count": 190,
     "metadata": {},
     "output_type": "execute_result"
    }
   ],
   "source": [
    "df_traduzida.head(1)"
   ]
  },
  {
   "cell_type": "code",
   "execution_count": 191,
   "id": "39fc52de",
   "metadata": {},
   "outputs": [],
   "source": [
    "# Separando a variavel alvo\n",
    "#target = df_traduzida.iloc[:,8]"
   ]
  },
  {
   "cell_type": "code",
   "execution_count": 192,
   "id": "3d4384d1",
   "metadata": {},
   "outputs": [],
   "source": [
    "# Separando as variaveis preditoras\n",
    "\n",
    "#preditoras = df_traduzida.copy() #Fazendo uma cópia do dataframe\n",
    "\n",
    "#del preditoras['diabetes'] #Excluindo a variavel target, pois já separamos ela na etapa anterior\n",
    "\n",
    "#preditoras.head()#Visualizando as variaveis preditoras"
   ]
  },
  {
   "cell_type": "markdown",
   "id": "bc2c97f9",
   "metadata": {},
   "source": [
    "### Balanceamento da variavel target "
   ]
  },
  {
   "cell_type": "code",
   "execution_count": 193,
   "id": "ab957de9",
   "metadata": {},
   "outputs": [],
   "source": [
    "# Importa a função\n",
    "from imblearn import under_sampling, over_sampling\n",
    "from imblearn.over_sampling import SMOTE\n",
    "\n",
    "# Seed para reproduzir o mesmo resultado\n",
    "seed = 100\n",
    "\n",
    "# Cria o balanceador SMOTE\n",
    "smote_bal = SMOTE(random_state = seed)\n",
    "\n",
    "# Separa X e y\n",
    "X = df_traduzida.iloc[:, :-1]\n",
    "y = df_traduzida.iloc[:, -1]\n",
    "\n",
    "# Aplica o balanceador\n",
    "X_res, y_res = smote_bal.fit_resample(X, y)"
   ]
  },
  {
   "cell_type": "code",
   "execution_count": 194,
   "id": "06dab23a",
   "metadata": {
    "tags": []
   },
   "outputs": [
    {
     "data": {
      "text/html": [
       "<div>\n",
       "<style scoped>\n",
       "    .dataframe tbody tr th:only-of-type {\n",
       "        vertical-align: middle;\n",
       "    }\n",
       "\n",
       "    .dataframe tbody tr th {\n",
       "        vertical-align: top;\n",
       "    }\n",
       "\n",
       "    .dataframe thead th {\n",
       "        text-align: right;\n",
       "    }\n",
       "</style>\n",
       "<table border=\"1\" class=\"dataframe\">\n",
       "  <thead>\n",
       "    <tr style=\"text-align: right;\">\n",
       "      <th></th>\n",
       "      <th>Sexo</th>\n",
       "      <th>Idade</th>\n",
       "      <th>hipertensão</th>\n",
       "      <th>doença_cardíaca</th>\n",
       "      <th>histórico_tabagismo</th>\n",
       "      <th>bmi</th>\n",
       "      <th>HbA1c_level</th>\n",
       "      <th>glicose</th>\n",
       "    </tr>\n",
       "  </thead>\n",
       "  <tbody>\n",
       "    <tr>\n",
       "      <th>0</th>\n",
       "      <td>0</td>\n",
       "      <td>80.0</td>\n",
       "      <td>0</td>\n",
       "      <td>1</td>\n",
       "      <td>4</td>\n",
       "      <td>25.19</td>\n",
       "      <td>6.6</td>\n",
       "      <td>140</td>\n",
       "    </tr>\n",
       "  </tbody>\n",
       "</table>\n",
       "</div>"
      ],
      "text/plain": [
       "   Sexo  Idade  hipertensão  doença_cardíaca  histórico_tabagismo    bmi  \\\n",
       "0     0   80.0            0                1                    4  25.19   \n",
       "\n",
       "   HbA1c_level  glicose  \n",
       "0          6.6      140  "
      ]
     },
     "execution_count": 194,
     "metadata": {},
     "output_type": "execute_result"
    }
   ],
   "source": [
    "X.head(1)"
   ]
  },
  {
   "cell_type": "code",
   "execution_count": 195,
   "id": "795d9f64",
   "metadata": {},
   "outputs": [
    {
     "data": {
      "image/png": "[encoded data removed]",
      "text/plain": [
       "<Figure size 1400x1000 with 1 Axes>"
      ]
     },
     "metadata": {},
     "output_type": "display_data"
    }
   ],
   "source": [
    "# Plot \n",
    "sns.countplot(y_res, palette = \"OrRd\")\n",
    "plt.box(False)\n",
    "plt.xlabel('TEM DOENÇA Não (0) / Sim (1)', fontsize = 11)\n",
    "plt.ylabel('Total Sessões', fontsize = 11)\n",
    "plt.title('Contagem de Classes\\n')\n",
    "plt.show()"
   ]
  },
  {
   "cell_type": "code",
   "execution_count": 196,
   "id": "23e67059",
   "metadata": {},
   "outputs": [
    {
     "data": {
      "text/plain": [
       "(96146, 9)"
      ]
     },
     "execution_count": 196,
     "metadata": {},
     "output_type": "execute_result"
    }
   ],
   "source": [
    "df_traduzida.shape  "
   ]
  },
  {
   "cell_type": "markdown",
   "id": "d7757b57",
   "metadata": {},
   "source": [
    "# RandomForest"
   ]
  },
  {
   "cell_type": "code",
   "execution_count": 197,
   "id": "4db23d1b",
   "metadata": {},
   "outputs": [
    {
     "name": "stdout",
     "output_type": "stream",
     "text": [
      "0.5992918204474217\n",
      "0.03214724699801443\n"
     ]
    }
   ],
   "source": [
    "#Random Forest Regressor:\n",
    "from sklearn.ensemble import RandomForestClassifier\n",
    "RandomForestClassifier = RandomForestClassifier()\n",
    "RandomForestClassifier = RandomForestClassifier.fit(X_treino, y_treino)\n",
    "\n",
    "#Prediction:\n",
    "y_predii = RandomForestClassifier.predict(X_teste)\n",
    "\n",
    "#Scores:\n",
    "print(r2_score(y_testee, y_predii))\n",
    "print(mean_squared_error(y_testee, y_predii))"
   ]
  },
  {
   "cell_type": "code",
   "execution_count": 198,
   "id": "c8c7c25a",
   "metadata": {},
   "outputs": [],
   "source": [
    "# Construtor do Modelo\n",
    "from sklearn.model_selection import GridSearchCV\n",
    "from sklearn.model_selection import RandomizedSearchCV \n",
    "modelo1 = RandomForestClassifier"
   ]
  },
  {
   "cell_type": "code",
   "execution_count": 199,
   "id": "72cbab68",
   "metadata": {},
   "outputs": [
    {
     "name": "stdout",
     "output_type": "stream",
     "text": [
      "Acurácia em Treinamento: 97.15%\n",
      "\n",
      "Hiperparâmetros Ideais: {'n_estimators': 150, 'min_samples_split': 2, 'min_samples_leaf': 2, 'max_features': 'log2', 'max_depth': 10, 'criterion': 'entropy', 'bootstrap': False}\n",
      "\n",
      "Numero de treinamentos realizados:  50\n"
     ]
    }
   ],
   "source": [
    "import numpy as np\n",
    "from sklearn.ensemble import RandomForestClassifier\n",
    "from sklearn.model_selection import RandomizedSearchCV\n",
    "\n",
    "# Valores para o grid de hiperparâmetros\n",
    "n_estimators = np.array([100, 150, 300])\n",
    "max_depth = np.array([10, 20])\n",
    "criterion = np.array([\"gini\", \"entropy\"])\n",
    "max_features = np.array([\"sqrt\", \"log2\"])\n",
    "min_samples_split = np.array([1, 2])\n",
    "min_samples_leaf = np.array([1, 2])\n",
    "bootstrap = [True, False]  # Corrigido aqui\n",
    "\n",
    "# Numero de iterações do RandomizedSearch\n",
    "iteracoes = 50\n",
    "\n",
    "# Grid de hiperparâmetros\n",
    "grid_parametros = dict(n_estimators=n_estimators,\n",
    "                       max_depth=max_depth,\n",
    "                       criterion=criterion,\n",
    "                       max_features=max_features,\n",
    "                       min_samples_split=min_samples_split,\n",
    "                       min_samples_leaf=min_samples_leaf,\n",
    "                       bootstrap=bootstrap)\n",
    "\n",
    "# Criando o modelo com o Grid de Hiperparâmetros\n",
    "modelo2 = RandomForestClassifier()  # Você deve criar uma instância do modelo primeiro\n",
    "\n",
    "modelo2 = RandomizedSearchCV(modelo2, grid_parametros, cv=3, n_jobs=8, n_iter=iteracoes)\n",
    "\n",
    "# Treinando os modelos\n",
    "modelo2.fit(X_treino, y_treino)\n",
    "\n",
    "# Obtendo e visualizando os parâmetros treinados\n",
    "treinos_rf = pd.DataFrame(modelo2.cv_results_)\n",
    "\n",
    "# Acurácia em Treino\n",
    "print(f\"Acurácia em Treinamento: {modelo2.best_score_:.2%}\")\n",
    "print(\"\")\n",
    "print(f\"Hiperparâmetros Ideais: {modelo2.best_params_}\")\n",
    "print(\"\")\n",
    "print(\"Numero de treinamentos realizados: \", treinos_rf.shape[0])"
   ]
  },
  {
   "cell_type": "code",
   "execution_count": 200,
   "id": "463a0086",
   "metadata": {},
   "outputs": [
    {
     "name": "stdout",
     "output_type": "stream",
     "text": [
      "TEM DIABETE\n",
      "[[0.09 0.91]]\n"
     ]
    }
   ],
   "source": [
    "# Os valores a seguir são apenas exemplos, substitua-os pelos valores reais\n",
    "Sexo = 0  # Exemplo: 0 para masculino, 1 para feminino\n",
    "Idade = 40\n",
    "hipertensão = 1  # 1 se tiver hipertensão, 0 caso contrário\n",
    "doença_cardíaca = 0  # 1 se tiver doença cardíaca, 0 caso contrário\n",
    "histórico_tabagismo = 1  # 1 se tiver histórico de tabagismo, 0 caso contrário\n",
    "bmi = 25.0\n",
    "HbA1c_level = 6.0\n",
    "glicose = 321\n",
    "\n",
    "# Crie um array numpy com os valores dos parâmetros\n",
    "parametro = np.array([[Sexo, Idade, hipertensão, doença_cardíaca, histórico_tabagismo, bmi, HbA1c_level, glicose]])\n",
    "\n",
    "# Agora tente fazer a previsão usando o modelo\n",
    "fazendo_previsao = modelo1.predict(parametro)\n",
    "probabilidade = modelo1.predict_proba(parametro)\n",
    "\n",
    "# Agora você pode imprimir os resultados\n",
    "\n",
    "if (fazendo_previsao == 0).any():\n",
    "    print('NÃO TEM DIABETE ')\n",
    "    print(probabilidade)\n",
    "\n",
    "else:\n",
    "    \n",
    "    print('TEM DIABETE')\n",
    "    print(probabilidade)"
   ]
  },
  {
   "cell_type": "markdown",
   "id": "26e0f17b",
   "metadata": {},
   "source": [
    "### SALVAR O MODELO PARA POR EM PRODUÇÃO"
   ]
  },
  {
   "cell_type": "code",
   "execution_count": 201,
   "id": "bbee35f1",
   "metadata": {},
   "outputs": [],
   "source": [
    "#Comando de Salvamento da Máquina Preditiva\n",
    "import pickle \n",
    "pickle_out = open(\"maquina_preditiva_diabete3.pkl\", mode = \"wb\") \n",
    "pickle.dump(modelo1, pickle_out) \n",
    "pickle_out.close() "
   ]
  },
  {
   "cell_type": "code",
   "execution_count": null,
   "id": "0ed91e42",
   "metadata": {},
   "outputs": [],
   "source": []
  }
 ],
 "metadata": {
  "kernelspec": {
   "display_name": "Python 3 (ipykernel)",
   "language": "python",
   "name": "python3"
  },
  "language_info": {
   "codemirror_mode": {
    "name": "ipython",
    "version": 3
   },
   "file_extension": ".py",
   "mimetype": "text/x-python",
   "name": "python",
   "nbconvert_exporter": "python",
   "pygments_lexer": "ipython3",
   "version": "3.11.4"
  }
 },
 "nbformat": 4,
 "nbformat_minor": 5
}
